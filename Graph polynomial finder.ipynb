{
 "cells": [
  {
   "cell_type": "markdown",
   "metadata": {},
   "source": [
    "This SageMath notebook is intended to take a DT sequence for a knotted 4-valent graph, and produce the associated graph polynomial. This is done in a few steps:\n",
    "\n",
    "1. Find the orientation of the graph nodes by running the DT algorithm on the sequence, giving the $f(i)$ function on node labels i. The convention is that $f(i) = +1$ if the other arc crosses from right to left, and $f(i) = -1$ if the other arc crosses from left to right.\n",
    "1. Once the orientation is known, it is possible to use the graph polynomial skein relation to find the polynomial in terms of sums of polynomials in the variables $a, b, c, d$, each multiplied by a link."
   ]
  },
  {
   "cell_type": "markdown",
   "metadata": {},
   "source": [
    "Define the DT sequence for the graph. Remember that this should be a Python list of three element lists. The first element is an even number, the second an odd; these are the two labels for that particular node. The third element gives the crossing or vertex type: -2 for a vertex with the upper edge on the odd label (label superscript $\\ell$), -1 for a crossing with the upper edge on the odd label (label superscript $-$), and the positive numbers are the flipped cases (superscripts $u$ and $+$).\n",
    "\n",
    "The test case is for the graph sequence $3^\\ell 5^\\ell 7^\\ell 1^\\ell$, which corresponds to the Python list\n",
    "\n",
    "```python\n",
    "    seq = [[0, 3, -2], [2, 5, -2], [4, 7, -2], [6, 1, -2]]\n",
    "```"
   ]
  },
  {
   "cell_type": "code",
   "execution_count": 3,
   "metadata": {},
   "outputs": [],
   "source": [
    "seq = [[0, 3, -2], [2, 5, -2], [4, 7, -2], [6, 1, -2]]"
   ]
  },
  {
   "cell_type": "markdown",
   "metadata": {},
   "source": [
    "Define the graph polynomial variables."
   ]
  },
  {
   "cell_type": "code",
   "execution_count": 4,
   "metadata": {},
   "outputs": [
    {
     "data": {
      "text/plain": [
       "(a, b, c, d)"
      ]
     },
     "execution_count": 4,
     "metadata": {},
     "output_type": "execute_result"
    }
   ],
   "source": [
    "var('a b c d')"
   ]
  },
  {
   "cell_type": "markdown",
   "metadata": {},
   "source": [
    "The following imports the function `isRealizable()` for the DT sequence `seq`, which gives the sequence orientation information $f(i)$. For a list `seq` corresponding to a realizable DT sequence, calling `isRealizable(seq, f_list = True)` will give a list of $f(i)$ values for each node label $i$. **Note:** Evidently, Jupyter notebooks require a beginning capital letter for the name of the folder from which the module is imported."
   ]
  },
  {
   "cell_type": "code",
   "execution_count": 5,
   "metadata": {},
   "outputs": [],
   "source": [
    "from Graphmaker.isRealizable import isRealizable"
   ]
  },
  {
   "cell_type": "markdown",
   "metadata": {},
   "source": [
    "The next command creates the orientation list `orientList` for the DT sequence `seq`."
   ]
  },
  {
   "cell_type": "code",
   "execution_count": 6,
   "metadata": {},
   "outputs": [
    {
     "data": {
      "text/plain": [
       "[1, 1, -1, -1, 1, 1, -1, -1]"
      ]
     },
     "execution_count": 6,
     "metadata": {},
     "output_type": "execute_result"
    }
   ],
   "source": [
    "orientList = isRealizable(seq, f_list = True)\n",
    "orientList"
   ]
  },
  {
   "cell_type": "markdown",
   "metadata": {},
   "source": [
    "The next function takes the DT sequence and orientation lists, and produces a planar diagram list from them. This will be used in the actual algorithm to find the graph polynomial."
   ]
  },
  {
   "cell_type": "code",
   "execution_count": 7,
   "metadata": {},
   "outputs": [],
   "source": [
    "from Graphmaker.planarDiagram import planarDiagram"
   ]
  },
  {
   "cell_type": "code",
   "execution_count": 8,
   "metadata": {},
   "outputs": [
    {
     "data": {
      "text/plain": [
       "[[[1, 4, 2, 5], [3, 7, 4, 6], [5, 8, 6, 1], [7, 3, 8, 2]], [2, -2, 2, -2]]"
      ]
     },
     "execution_count": 8,
     "metadata": {},
     "output_type": "execute_result"
    }
   ],
   "source": [
    "planarDiagram(seq, orientList)"
   ]
  },
  {
   "cell_type": "markdown",
   "metadata": {},
   "source": [
    "Before we get into solving for the graph polynomials, we add two additional functions. The first relabels the edge labels to replace any missing numbers that have been lost in the simplification process. Note: do **not** include a sorting part to the list that is returned, since the nodes are treated in a certain order by the `graphPoly()` algorithm."
   ]
  },
  {
   "cell_type": "code",
   "execution_count": 9,
   "metadata": {},
   "outputs": [],
   "source": [
    "from Graphmaker.reorder import reorder"
   ]
  },
  {
   "cell_type": "markdown",
   "metadata": {},
   "source": [
    "The second takes a sequence of edge labels, along with min and max labels, and reverses all edge labels between and including the min and max."
   ]
  },
  {
   "cell_type": "code",
   "execution_count": 10,
   "metadata": {},
   "outputs": [],
   "source": [
    "from Graphmaker.labelReverse import labelReverse"
   ]
  },
  {
   "cell_type": "markdown",
   "metadata": {},
   "source": [
    "The skein relation for the graph polynomial is of the following form.\n",
    "\n",
    "Note that if $a = b = 1$, and $c = d = 0$, then the graph polynomial should be the same as the knot, where every vertex is changed into a crossing with the same \"upper edge\". Conversely, if $a = b = 0$ and $c = d = 1$, the polynomial is the sum over all possible crossing types for the corresponding knot. When the Jones polynomial $f(A)$ is used, then when $a = b = A = -1, c = d = 0$, the graph polynomial mod 3 gives the Pachner class of the graph."
   ]
  },
  {
   "cell_type": "code",
   "execution_count": 32,
   "metadata": {},
   "outputs": [],
   "source": [
    "def graphPoly(pd_list, type_list):\n",
    "    \"\"\"\n",
    "    This is a recursive function to find the graph\n",
    "    polynomial associated with the graph described\n",
    "    by the PD list pd_list and the orientation list\n",
    "    type_list. When the algorithm is complete, it\n",
    "    will return the graph polynomial.\n",
    "    \"\"\"\n",
    "    \n",
    "    #print('>>>', pd_list, type_list)\n",
    "    \n",
    "    # If the graph has been completely reduced down\n",
    "    # to a link, return the link invariant polynomial,\n",
    "    # using any choice of such invariant\n",
    "    \n",
    "    if type_list == []:\n",
    "        L = Link(pd_list)\n",
    "        #print(L.jones_polynomial(skein_normalization = True, algorithm = 'statesum'))\n",
    "        return L.jones_polynomial(skein_normalization = True, algorithm = 'statesum')\n",
    "    \n",
    "    # If the graph has not been completely reduced,\n",
    "    # work on last node; this will be deleted from the\n",
    "    # end of type_list, but kept in pd_list, so the\n",
    "    # link invariant can be calculated.\n",
    "    \n",
    "    # If the node type is a crossing, return the function\n",
    "    # for the remainder of the graph, without the given\n",
    "    # crossing\n",
    "    \n",
    "    if abs(type_list[-1]) == 1:\n",
    "        return graphPoly(pd_list, type_list[:-1])\n",
    "    \n",
    "    # If the node type is a vertex, use the graph\n",
    "    # polynomial skein relation.\n",
    "    \n",
    "    elif abs(type_list[-1]) == 2:\n",
    "    \n",
    "        # Create new function to return\n",
    "\n",
    "        new_func = 0\n",
    "        \n",
    "        # Which node are we working with? Given by length of\n",
    "        # current type_list\n",
    "        \n",
    "        node_index = len(type_list) - 1\n",
    "        \n",
    "        #--------------------------------------------------------------------#\n",
    "        \n",
    "        # Cases Alpha and Bravo -- Treat these cases at same\n",
    "        # time, where either the upper edge is paired with the\n",
    "        # lower edge to its left (Alpha) or to its right (Bravo).\n",
    "        # There are seven possible cases to consider, based on\n",
    "        # whether any of the incident edges to the vertex are\n",
    "        # the same edge or not. The comments below use the\n",
    "        # notation [a0, a1, a2, a3] for the PD notation of the\n",
    "        # vertex.\n",
    "        \n",
    "        [a0, a1, a2, a3] = pd_list[node_index]\n",
    "        \n",
    "        # a0 == a1\n",
    "        \n",
    "        if a0 == a1:\n",
    "            \n",
    "            # a2 == a3 -- Vertex is unconnected to rest of graph.\n",
    "            # Create an additional unknot for the Alpha case;\n",
    "            # keep the original list, but now as a single unknot,\n",
    "            # for the Bravo case.\n",
    "            \n",
    "            if a2 == a3:\n",
    "                \n",
    "                #print('Case A')\n",
    "                \n",
    "                # Create new PD list and reorder it\n",
    "                \n",
    "                new_pd_list = reorder([node for node in pd_list])\n",
    "                \n",
    "                # Find largest current edge label in graph\n",
    "                \n",
    "                max_label = max([max(node) for node in new_pd_list])\n",
    "                \n",
    "                # Use recursive definition here, with additional\n",
    "                # unknot based on max_label\n",
    "                \n",
    "                new_func += a * graphPoly([node for node in new_pd_list] + [[max_label + 1, max_label + 1, max_label + 2, max_label + 2]], type_list[:-1])\n",
    "                new_func += b * graphPoly([node for node in new_pd_list], type_list[:-1])\n",
    "                \n",
    "            else:\n",
    "                \n",
    "                #print('Case E')\n",
    "                \n",
    "                # a2 != a3 -- For Alpha case, a2 and a3 become\n",
    "                # the same edge, and an unknot is added to the\n",
    "                # graph; for Bravo case, all four edges become\n",
    "                # the same edge with no crossing, so the outcome\n",
    "                # is the same as Alpha case, but without the\n",
    "                # unknot.\n",
    "                \n",
    "                # Find max and min labels out of a2, a3\n",
    "                \n",
    "                min_label = min(a2, a3)\n",
    "                max_label = max(a2, a3)\n",
    "                \n",
    "                # Create new PD list, with current vertex removed;\n",
    "                # replace max_label with min_label in new list, then\n",
    "                # reorder result\n",
    "                \n",
    "                new_pd_list = [node for node in pd_list if node != pd_list[node_index]]\n",
    "                new_pd_list = reorder([[node[iii] if node[iii] != max_label else min_label for iii in range(4)]\n",
    "                                       for node in new_pd_list])\n",
    "                \n",
    "                # Find largest current edge label in new graph list\n",
    "                \n",
    "                high_label = max([max(node) for node in new_pd_list])\n",
    "                \n",
    "                # Use recursive definition here, with additional\n",
    "                # unknot based on max_label\n",
    "                \n",
    "                new_func += a * graphPoly([node for node in new_pd_list] + [[high_label + 1, high_label + 1, high_label + 2, high_label + 2]], type_list[:-1])\n",
    "                new_func += b * graphPoly([node for node in new_pd_list], type_list[:-1])\n",
    "                \n",
    "        # a0 == a3 -- This is same idea as previous situation, just\n",
    "        # reversing the Alpha and Bravo cases for each possibility\n",
    "                \n",
    "        elif a0 == a3:\n",
    "            \n",
    "            # a1 == a2 -- Vertex is unconnected to rest of graph.\n",
    "            # Create an additional unknot for the Bravo case;\n",
    "            # keep the original list, but now as a single unknot,\n",
    "            # for the Alpha case.\n",
    "            \n",
    "            if a1 == a2:\n",
    "                \n",
    "                #print('Case B')\n",
    "                \n",
    "                # Create new PD list and reorder it\n",
    "                \n",
    "                new_pd_list = reorder([node for node in pd_list])\n",
    "                \n",
    "                # Find largest current edge label in graph\n",
    "                \n",
    "                max_label = max([max(node) for node in new_pd_list])\n",
    "                \n",
    "                # Use recursive definition here, with additional\n",
    "                # unknot based on max_label\n",
    "                \n",
    "                new_func += a * graphPoly([node for node in new_pd_list], type_list[:-1])\n",
    "                new_func += b * graphPoly([node for node in new_pd_list] + [[max_label + 1, max_label + 1, max_label + 2, max_label + 2]], type_list[:-1])\n",
    "\n",
    "            else:\n",
    "                \n",
    "                #print('Case F')\n",
    "                \n",
    "                # a1 != a2 -- For Bravo case, a2 and a3 become\n",
    "                # the same edge, and an unknot is added to the\n",
    "                # graph; for Alpha case, all four edges become\n",
    "                # the same edge with no crossing, so the outcome\n",
    "                # is the same as Bravo case, but without the\n",
    "                # unknot.\n",
    "                \n",
    "                # Find max and min labels out of a1, a2\n",
    "                \n",
    "                min_label = min(a1, a2)\n",
    "                max_label = max(a1, a2)\n",
    "                \n",
    "                # Create new PD list, with current vertex removed;\n",
    "                # replace max_label with min_label in new list, then\n",
    "                # reorder result\n",
    "                \n",
    "                new_pd_list = [node for node in pd_list if node != pd_list[node_index]]\n",
    "                new_pd_list = reorder([[node[iii] if node[iii] != max_label else min_label for iii in range(4)]\n",
    "                                       for node in new_pd_list])\n",
    "                \n",
    "                # Find largest current edge label in new graph list\n",
    "                \n",
    "                high_label = max([max(node) for node in new_pd_list])\n",
    "                \n",
    "                # Use recursive definition here, with additional\n",
    "                # unknot based on max_label\n",
    "                \n",
    "                new_func += a * graphPoly([node for node in new_pd_list], type_list[:-1])\n",
    "                new_func += b * graphPoly([node for node in new_pd_list] + [[high_label + 1, high_label + 1, high_label + 2, high_label + 2]], type_list[:-1])\n",
    "                \n",
    "        elif a1 == a2:\n",
    "            \n",
    "            #print('Case D')\n",
    "            \n",
    "            # a1 == a2 but a0 != a3 -- For Alpha case, all four\n",
    "            # edges become same edge with no crossing; for Bravo\n",
    "            # case, a0 and a3 become same edge with unknot added.\n",
    "                \n",
    "            # Find max and min labels out of a0, a3\n",
    "                \n",
    "            min_label = min(a0, a3)\n",
    "            max_label = max(a0, a3)\n",
    "                \n",
    "            # Create new PD list, with current vertex removed;\n",
    "            # replace max_label with min_label in new list, then\n",
    "            # reorder result\n",
    "                \n",
    "            new_pd_list = [node for node in pd_list if node != pd_list[node_index]]\n",
    "            new_pd_list = reorder([[node[iii] if node[iii] != max_label else min_label for iii in range(4)]\n",
    "                                   for node in new_pd_list])\n",
    "                \n",
    "            # Find largest current edge label in new graph list\n",
    "                \n",
    "            high_label = max([max(node) for node in new_pd_list])\n",
    "                \n",
    "            # Use recursive definition here, with additional\n",
    "            # unknot based on max_label\n",
    "                \n",
    "            new_func += a * graphPoly([node for node in new_pd_list], type_list[:-1])\n",
    "            new_func += b * graphPoly([node for node in new_pd_list] + [[high_label + 1, high_label + 1, high_label + 2, high_label + 2]], type_list[:-1])\n",
    "                \n",
    "        elif a2 == a3:\n",
    "            \n",
    "            #print('Case C')\n",
    "            \n",
    "            # a2 == a3 but a0 != a1 -- Same as previous situation,\n",
    "            # but reversed cases.\n",
    "                \n",
    "            # Find max and min labels out of a0, a1\n",
    "                \n",
    "            min_label = min(a0, a1)\n",
    "            max_label = max(a0, a1)\n",
    "                \n",
    "            # Create new PD list, with current vertex removed;\n",
    "            # replace max_label with min_label in new list, then\n",
    "            # reorder result\n",
    "                \n",
    "            new_pd_list = [node for node in pd_list if node != pd_list[node_index]]\n",
    "            new_pd_list = reorder([[node[iii] if node[iii] != max_label else min_label for iii in range(4)]\n",
    "                                   for node in new_pd_list])\n",
    "                \n",
    "            # Find largest current edge label in new graph list\n",
    "                \n",
    "            high_label = max([max(node) for node in new_pd_list])\n",
    "                \n",
    "            # Use recursive definition here, with additional\n",
    "            # unknot based on max_label\n",
    "                \n",
    "            new_func += a * graphPoly([node for node in new_pd_list] + [[high_label + 1, high_label + 1, high_label + 2, high_label + 2]], type_list[:-1])\n",
    "            new_func += b * graphPoly([node for node in new_pd_list], type_list[:-1])\n",
    "                \n",
    "        else:\n",
    "            \n",
    "            #print('Case Null')\n",
    "            \n",
    "            # None of the four edge labels are the same, so the two\n",
    "            # cases are:\n",
    "            #\n",
    "            #     Alpha -- connect a0 and a1, connect a2 and a3\n",
    "            #     Bravo -- connect a0 and a3, connect a1 and a2\n",
    "            #\n",
    "            # The original vertex is removed, and the two max labels\n",
    "            # are replaced with the two min labels. One of the moves\n",
    "            # will require reversing the orientations of some of the\n",
    "            # edges.\n",
    "            \n",
    "            #print(a0, a1, a2, a3)\n",
    "            \n",
    "            # Alpha case ------------------------------------------#\n",
    "            \n",
    "            # Find max and min labels\n",
    "            \n",
    "            first_max = max(pd_list[node_index][0], pd_list[node_index][1])\n",
    "            first_min = min(pd_list[node_index][0], pd_list[node_index][1])\n",
    "\n",
    "            second_max = max(pd_list[node_index][2], pd_list[node_index][3])\n",
    "            second_min = min(pd_list[node_index][2], pd_list[node_index][3])\n",
    "            \n",
    "            # If the upper edge of the vertex is right to left,\n",
    "            # the sequence [a2, ..., a1] of edge labels needs\n",
    "            # to be reversed before anything else is done. Then\n",
    "            # remove current index, regardless of upper edge\n",
    "            \n",
    "            if type_list[-1] > 0:\n",
    "                new_pd_list = labelReverse([node for node in pd_list], a1, a2)\n",
    "                #print('a-Reversed:', new_pd_list)\n",
    "            else:\n",
    "                new_pd_list = [node for node in pd_list]\n",
    "            \n",
    "            # Find max and min labels for working vertex in\n",
    "            # (possibly reversed) PD list\n",
    "            \n",
    "            first_max = max(new_pd_list[node_index][0], new_pd_list[node_index][1])\n",
    "            first_min = min(new_pd_list[node_index][0], new_pd_list[node_index][1])\n",
    "\n",
    "            second_max = max(new_pd_list[node_index][2], new_pd_list[node_index][3])\n",
    "            second_min = min(new_pd_list[node_index][2], new_pd_list[node_index][3])\n",
    "            \n",
    "            # Delete current node in new_pd_list\n",
    "            \n",
    "            new_pd_list = [node for node in new_pd_list if node != new_pd_list[node_index]]\n",
    "            \n",
    "            # Replace max labels with min labels\n",
    "            \n",
    "            new_pd_list = [[node[iii] if node[iii] != first_max else first_min for iii in range(4)]\n",
    "                           for node in new_pd_list]\n",
    "            \n",
    "            new_pd_list = [[node[iii] if node[iii] != second_max else second_min for iii in range(4)]\n",
    "                           for node in new_pd_list]\n",
    "            \n",
    "            #print('a:::', new_pd_list)\n",
    "            \n",
    "            new_func += a * graphPoly(reorder([node for node in new_pd_list]), type_list[:-1])\n",
    "            \n",
    "            # Bravo case ------------------------------------------#\n",
    "            \n",
    "            # If the upper edge of the vertex is right to left,\n",
    "            # the sequence [a2, ..., a3] of edge labels needs\n",
    "            # to be reversed before anything else is done. Then\n",
    "            # remove current index, regardless of upper edge\n",
    "            \n",
    "            if type_list[-1] < 0:\n",
    "                new_pd_list = labelReverse([node for node in pd_list], a2, a3)\n",
    "                #print('b-Reversed:', new_pd_list)\n",
    "            else:\n",
    "                new_pd_list = [node for node in pd_list]\n",
    "            \n",
    "            # Find max and min labels for working vertex in\n",
    "            # (possibly reversed) PD list\n",
    "            \n",
    "            first_max = max(new_pd_list[node_index][0], new_pd_list[node_index][3])\n",
    "            first_min = min(new_pd_list[node_index][0], new_pd_list[node_index][3])\n",
    "\n",
    "            second_max = max(new_pd_list[node_index][1], new_pd_list[node_index][2])\n",
    "            second_min = min(new_pd_list[node_index][1], new_pd_list[node_index][2])\n",
    "            \n",
    "            # Delete current node in new_pd_list\n",
    "            \n",
    "            new_pd_list = [node for node in new_pd_list if node != new_pd_list[node_index]]\n",
    "            \n",
    "            # Replace max labels with min labels\n",
    "            \n",
    "            new_pd_list = [[node[iii] if node[iii] != first_max else first_min for iii in range(4)]\n",
    "                           for node in new_pd_list]\n",
    "            \n",
    "            new_pd_list = [[node[iii] if node[iii] != second_max else second_min for iii in range(4)]\n",
    "                           for node in new_pd_list]\n",
    "            \n",
    "            #print('b:::', new_pd_list)\n",
    "            \n",
    "            new_func += b * graphPoly(reorder([node for node in new_pd_list]), type_list[:-1])\n",
    "    \n",
    "        #--------------------------------------------------------------------#\n",
    "    \n",
    "        # Case Gamma -- Vertex is removed and replaced by\n",
    "        #   crossing, with upper edge of vertex becoming\n",
    "        #   upper edge of crossing\n",
    "        \n",
    "        # In this case, the upper edge just becomes an\n",
    "        # upper crossing.\n",
    "                    \n",
    "        #print('c:', pd_list)\n",
    "        \n",
    "        new_func += c * graphPoly([node for node in pd_list], type_list[:-1])\n",
    "    \n",
    "        #--------------------------------------------------------------------#\n",
    "\n",
    "        # Case Delta -- vertex is removed and replaced by\n",
    "        #   crossing, with upper edge of vertex becoming\n",
    "        #   lower edge of crossing\n",
    "\n",
    "        # The edge labels are in order when traveling along\n",
    "        # the orientation of the edges, so use this information\n",
    "        # to find out which way the upper edge crosses over the\n",
    "        # lower. In particular, if a3 > a1, then the upper edge\n",
    "        # goes from left to right, and if a3 < a1, then the upper\n",
    "        # edge goes from right to left. There is also the case\n",
    "        # where the highest edge of a particular *link* is on\n",
    "        # one side of the node and the lowest edge of the same\n",
    "        # link is on the opposite side; that will be the incoming\n",
    "        # edge on the upper edge. This means the components of the\n",
    "        # link must be identified.\n",
    "        #\n",
    "        # If the upper edge goes from left to right over\n",
    "        # the lower edge, then permute the PD list [a0, a1, a2, a3]\n",
    "        # -> [a3, a0, a1, a2]; if the upper edge goes from right\n",
    "        # to left, then permute -> [a1, a2, a3, a0].\n",
    "        \n",
    "        new_pd_list = [node for node in pd_list]\n",
    "        \n",
    "        if new_pd_list[node_index][3] > new_pd_list[node_index][1] or (new_pd_list[node_index][3] == 1 and new_pd_list[node_index][1] == 2 * len(new_pd_list)):\n",
    "            change = 1\n",
    "        else:\n",
    "            change = -1\n",
    "        \n",
    "        new_pd_list[node_index] = [new_pd_list[node_index][(iii + change) % 4] for iii in range(4)]\n",
    "            \n",
    "        #print('d:', node_index, change, pd_list, new_pd_list)\n",
    "        \n",
    "        new_func += d * graphPoly(new_pd_list, type_list[:-1])\n",
    "    \n",
    "        #--------------------------------------------------------------------#\n",
    "        \n",
    "        # Return resulting polynomial\n",
    "        \n",
    "        return new_func"
   ]
  },
  {
   "cell_type": "markdown",
   "metadata": {},
   "source": [
    "Here are some test cases:\n",
    "\n",
    "1. $1^u$: `b + c + d - (A^4 + 1)*a/A^2`\n",
    "1. $1^l$: `a + c + d - (A^4 + 1)*b/A^2`\n",
    "1. $3^u 1^l$: `a*b*A^-4 + (-a^2 - b^2 - a*c - b*c - a*d - b*d)*A^-2 + (3*a*b + a*c + b*c + c^2 + a*d + b*d + 2*c*d + d^2) + (-a^2 - b^2 - a*c - b*c - a*d - b*d)*A^2 + a*b*A^4` (verified as same polynomial for mirror image $3^l 1^u$)\n",
    "1. $3^u 1^u$: `a^2/A^4 + (-2*a*b - 2*a*c - 2*a*d)/A^2 + (2*a^2 + b^2 + 2*b*c + c^2 + 2*b*d + 2*c*d + d^2) + (-2*a*b - 2*a*c - 2*a*d)*A^2 + a^2*A^4`\n",
    "1. $3^l 1^l$: `b^2/A^4+ (-2*a*b - 2*b*c - 2*b*d)/A^2] + (a^2 + 2*b^2 + 2*a*c + c^2 + 2*a*d + 2*c*d + d^2) + (-2*a*b - 2*b*c - 2*b*d)*A^2 + b^2*A^4` (using same $f(i)$ list as previous entry, so this is mirror image)\n",
    "1. $3^u 5^- 1^-$: `(b + c) - a*A^2 + d*A^4 - a*A^10 + d*A^12 - d*A^16` (this is the mirror image of the diagram in my notes, since I used the opposite `f_list` here)\n",
    "1. $3^u 5^+ 1^+$: `-c*A^-16 + c*A^-12 - a*A^-10 + c*A^-4 - a*A^-2 + (b + d)` (again, this is the mirror image of the diagram in my notes, since I used the opposite `f_list` here)"
   ]
  },
  {
   "cell_type": "code",
   "execution_count": 36,
   "metadata": {},
   "outputs": [
    {
     "name": "stdout",
     "output_type": "stream",
     "text": [
      "[[[1, 5, 2, 4], [2, 5, 3, 6], [3, 1, 4, 6]], [-2, 1, -2]]\n"
     ]
    },
    {
     "data": {
      "text/plain": [
       "[[-a*d, -10],\n",
       " [c*d, -6],\n",
       " [-b^2 - 2*a*c - a*d + d^2, -2],\n",
       " [a^2 + 2*a*b + 2*b*c + c^2 + 2*b*d + c*d, 0],\n",
       " [-b^2 - 2*a*c - a*d, 2],\n",
       " [d^2, 6],\n",
       " [-a*d - d^2, 10]]"
      ]
     },
     "execution_count": 36,
     "metadata": {},
     "output_type": "execute_result"
    }
   ],
   "source": [
    "seq = [[0, 3, -2], [2, 5, -2], [4, 1, 1]]\n",
    "orientList = [-1, 1, -1, 1, -1, 1]\n",
    "#orientList = isRealizable(seq, f_list = True)\n",
    "#print(orientList)\n",
    "print(planarDiagram(seq, orientList))\n",
    "function = graphPoly(*planarDiagram(seq, orientList))\n",
    "function.coefficients()"
   ]
  },
  {
   "cell_type": "code",
   "execution_count": null,
   "metadata": {},
   "outputs": [],
   "source": [
    "#function(a = 1, b = 1, c = 0, d = 0).simplify_full()"
   ]
  },
  {
   "cell_type": "code",
   "execution_count": 38,
   "metadata": {},
   "outputs": [
    {
     "name": "stdout",
     "output_type": "stream",
     "text": [
      "-A^2 - A^10\n"
     ]
    },
    {
     "data": {
      "image/png": "[encoded data removed]",
      "text/plain": [
       "Graphics object consisting of 13 graphics primitives"
      ]
     },
     "execution_count": 38,
     "metadata": {},
     "output_type": "execute_result"
    }
   ],
   "source": [
    "M = Link([[1,3, 2, 4], [4, 2, 3, 1]])\n",
    "print(M.jones_polynomial(skein_normalization = True))\n",
    "M.plot()"
   ]
  },
  {
   "cell_type": "code",
   "execution_count": null,
   "metadata": {},
   "outputs": [],
   "source": [
    "M = Link([[3, 4, 1, 1], [2, 2, 4, 3]])\n",
    "print(M.jones_polynomial(skein_normalization = True, algorithm = 'statesum'))\n",
    "M.plot()"
   ]
  },
  {
   "cell_type": "code",
   "execution_count": null,
   "metadata": {},
   "outputs": [],
   "source": [
    "L = Link([[3, 3, 4, 2], [4, 1, 1, 2]])\n",
    "L.plot()"
   ]
  },
  {
   "cell_type": "code",
   "execution_count": null,
   "metadata": {},
   "outputs": [],
   "source": [
    "L.jones_polynomial(skein_normalization = True)"
   ]
  },
  {
   "cell_type": "code",
   "execution_count": null,
   "metadata": {},
   "outputs": [],
   "source": [
    "seq = [[0, 3, 2], [2, 5, 2], [4, 1, -2]]\n",
    "orientList = isRealizable(seq, f_list = True)\n",
    "print(orientList)\n",
    "PD = planarDiagram(seq, orientList)\n",
    "print(PD)\n",
    "Link(PD[0]).plot()"
   ]
  },
  {
   "cell_type": "code",
   "execution_count": null,
   "metadata": {},
   "outputs": [],
   "source": [
    "function([0, 1, 2, 3, 4, 5])"
   ]
  },
  {
   "cell_type": "code",
   "execution_count": null,
   "metadata": {},
   "outputs": [],
   "source": [
    "A = [0, 1, 2, 3]\n",
    "Ap = [iii if iii != 2 else 5 for iii in A]\n",
    "Ap"
   ]
  },
  {
   "cell_type": "code",
   "execution_count": null,
   "metadata": {},
   "outputs": [],
   "source": [
    "B = [[2, 4, 1, 5], [4, 2, 5, 1]]\n",
    "Bp = [[node[iii] if node[iii] != 5 else 1 for iii in range(4)] for node in B]\n",
    "Bp"
   ]
  },
  {
   "cell_type": "code",
   "execution_count": null,
   "metadata": {},
   "outputs": [],
   "source": [
    "B"
   ]
  },
  {
   "cell_type": "code",
   "execution_count": null,
   "metadata": {},
   "outputs": [],
   "source": [
    "del B[-1]"
   ]
  },
  {
   "cell_type": "code",
   "execution_count": null,
   "metadata": {},
   "outputs": [],
   "source": [
    "C = [1]\n",
    "del C[-1]\n",
    "C += [2, 3]\n",
    "C"
   ]
  },
  {
   "cell_type": "code",
   "execution_count": null,
   "metadata": {},
   "outputs": [],
   "source": [
    "print(reorder([[4, 2, 5, 1], [5, 2, 6, 3], [6, 4, 1, 3]]))"
   ]
  },
  {
   "cell_type": "code",
   "execution_count": null,
   "metadata": {},
   "outputs": [],
   "source": [
    "pd_list = [[3, 6, 4, 1], [4, 2, 5, 1], [5, 2, 6, 3]]"
   ]
  },
  {
   "cell_type": "code",
   "execution_count": null,
   "metadata": {},
   "outputs": [],
   "source": [
    "labelReverse(pd_list, 5, 1)"
   ]
  },
  {
   "cell_type": "code",
   "execution_count": null,
   "metadata": {},
   "outputs": [],
   "source": []
  }
 ],
 "metadata": {
  "kernelspec": {
   "display_name": "SageMath 8.2",
   "language": "",
   "name": "sagemath"
  },
  "language_info": {
   "codemirror_mode": {
    "name": "ipython",
    "version": 2
   },
   "file_extension": ".py",
   "mimetype": "text/x-python",
   "name": "python",
   "nbconvert_exporter": "python",
   "pygments_lexer": "ipython2",
   "version": "2.7.14"
  }
 },
 "nbformat": 4,
 "nbformat_minor": 2
}
