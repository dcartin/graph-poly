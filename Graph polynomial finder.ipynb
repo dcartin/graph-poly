{
 "cells": [
  {
   "cell_type": "markdown",
   "metadata": {},
   "source": [
    "This SageMath notebook is intended to take a DT sequence for a knotted 4-valent graph, and produce the associated graph polynomial. This is done in a few steps:\n",
    "\n",
    "1. Find the orientation of the graph nodes by running the DT algorithm on the sequence, giving the $f(i)$ function on node labels i. The convention is that $f(i) = +1$ if the other arc crosses from right to left, and $f(i) = -1$ if the other arc crosses from left to right.\n",
    "1. Once the orientation is known, it is possible to use the graph polynomial skein relation to find the polynomial in terms of sums of polynomials in the variables $a, b, c, d$, each multiplied by a link."
   ]
  },
  {
   "cell_type": "markdown",
   "metadata": {},
   "source": [
    "Define the DT sequence for the graph. Remember that this should be a Python list of three element lists. The first element is an even number, the second an odd; these are the two labels for that particular node. The third element gives the crossing or vertex type: -2 for a vertex with the upper edge on the odd label (label superscript $\\ell$), -1 for a crossing with the upper edge on the odd label (label superscript $-$), and the positive numbers are the flipped cases (superscripts $u$ and $+$).\n",
    "\n",
    "The test case is for the graph sequence $3^\\ell 5^\\ell 7^\\ell 1^\\ell$, which corresponds to the Python list\n",
    "\n",
    "```python\n",
    "    seq = [[0, 3, -2], [2, 5, -2], [4, 7, -2], [6, 1, -2]]\n",
    "```"
   ]
  },
  {
   "cell_type": "code",
   "execution_count": 48,
   "metadata": {},
   "outputs": [],
   "source": [
    "seq = [[0, 3, -2], [2, 5, -2], [4, 7, -2], [6, 1, -2]]"
   ]
  },
  {
   "cell_type": "markdown",
   "metadata": {},
   "source": [
    "Define the graph polynomial variables."
   ]
  },
  {
   "cell_type": "code",
   "execution_count": 49,
   "metadata": {},
   "outputs": [
    {
     "data": {
      "text/plain": [
       "(a, b, c, d)"
      ]
     },
     "execution_count": 49,
     "metadata": {},
     "output_type": "execute_result"
    }
   ],
   "source": [
    "var('a b c d')"
   ]
  },
  {
   "cell_type": "markdown",
   "metadata": {},
   "source": [
    "The following imports the function `isRealizable()` for the DT sequence `seq`, which gives the sequence orientation information $f(i)$. For a list `seq` corresponding to a realizable DT sequence, calling `isRealizable(seq, f_list = True)` will give a list of $f(i)$ values for each node label $i$. **Note:** Evidently, Jupyter notebooks require a beginning capital letter for the name of the folder from which the module is imported."
   ]
  },
  {
   "cell_type": "code",
   "execution_count": 50,
   "metadata": {},
   "outputs": [],
   "source": [
    "from Graphmaker.isRealizable import isRealizable"
   ]
  },
  {
   "cell_type": "markdown",
   "metadata": {},
   "source": [
    "The next command creates the orientation list `orientList` for the DT sequence `seq`."
   ]
  },
  {
   "cell_type": "code",
   "execution_count": 51,
   "metadata": {},
   "outputs": [
    {
     "data": {
      "text/plain": [
       "[1, 1, -1, -1, 1, 1, -1, -1]"
      ]
     },
     "execution_count": 51,
     "metadata": {},
     "output_type": "execute_result"
    }
   ],
   "source": [
    "orientList = isRealizable(seq, f_list = True)\n",
    "orientList"
   ]
  },
  {
   "cell_type": "markdown",
   "metadata": {},
   "source": [
    "The next function takes the DT sequence and orientation lists, and produces a planar diagram list from them. This will be used in the actual algorithm to find the graph polynomial."
   ]
  },
  {
   "cell_type": "code",
   "execution_count": 52,
   "metadata": {},
   "outputs": [],
   "source": [
    "def planarDiagram(seq, f_list):\n",
    "    \"\"\"\n",
    "    Given DT sequence and orientation lists for a graph,\n",
    "    return the planar diagram list for that sequence.\n",
    "    \"\"\"\n",
    "    \n",
    "    # Find number of nodes\n",
    "    \n",
    "    num_node = len(seq)\n",
    "    \n",
    "    # Create PD list and node type lists to return\n",
    "    \n",
    "    pd_list = [[] for iii in range(num_node)]\n",
    "    type_list = [0 for iii in range(num_node)]\n",
    "    \n",
    "    # Go through the DT sequence, and find the PD sequence;\n",
    "    # at first, we tack the type list onto the end of the PD\n",
    "    # sequence, so we can sort the sequence, then strip off\n",
    "    # the type information at the end\n",
    "    #\n",
    "    # We also need to include additional information for the\n",
    "    # vertices so that the delta move can be performed.\n",
    "    # Specifically, when the vertex with labels [a0, a1, a2, a3]\n",
    "    # has the delta move acting on it, the result can be:\n",
    "    #\n",
    "    #    1. [a1, a2, a3, a0] when the even label i has\n",
    "    #    f(i) = +1 and is a lower edge on the vertex, or\n",
    "    #    the even label has f(i) = -1 and is an upper edge\n",
    "    #\n",
    "    #    2. [a3, a0, a1, a2] when the even label i has\n",
    "    #    f(i) = +1 and is an upper edge on the vertex, or\n",
    "    #    the even label has f(i) = -1 and is a lower edge\n",
    "    #\n",
    "    # For the first case, we give the (possibly new) node\n",
    "    # label as +2, and the second, -2.\n",
    "    \n",
    "    for jjj in range(num_node):\n",
    "        node = seq[jjj]\n",
    "        \n",
    "        # If node[2] is negative, this means the even label is\n",
    "        # the undercrossing or the lower edge, if a vertex\n",
    "        \n",
    "        if node[2] < 0:\n",
    "            \n",
    "            # Lower edge, f(i) = +1\n",
    "            \n",
    "            if f_list[node[0]] == 1:\n",
    "                pd_list[jjj] = [node[0], node[1], (node[0] + 1) % (2 * num_node),\n",
    "                                (node[1] + 1) % (2 * num_node), -node[2]]\n",
    "                \n",
    "            # Lower edge, f(i) = -1\n",
    "                \n",
    "            elif f_list[node[0]] == -1:\n",
    "                pd_list[jjj] = [node[0], (node[1] + 1) % (2 * num_node),\n",
    "                                (node[0] + 1) % (2 * num_node), node[1], node[2]]\n",
    "        \n",
    "        # If node[2] is positive, this means the even label is\n",
    "        # the overcrossing or the upper edge, if a vertex\n",
    "        \n",
    "        elif node[2] > 0:\n",
    "            \n",
    "            # Upper edge, f(i) = +1\n",
    "            \n",
    "            if f_list[node[0]] == 1:\n",
    "                pd_list[jjj] = [node[1], (node[0] + 1) % (2 * num_node),\n",
    "                                (node[1] + 1) % (2 * num_node), node[0], -node[2]]\n",
    "                \n",
    "            # Upper edge, f(i) = -1\n",
    "            \n",
    "            elif f_list[node[0]] == -1:\n",
    "                pd_list[jjj] = [node[1], node[0], (node[1] + 1) % (2 * num_node),\n",
    "                                (node[0] + 1) % (2 * num_node), node[2]]\n",
    "                \n",
    "    # Sort resulting PD list, then strip off\n",
    "    # type information for separate list; since\n",
    "    # SageMath wants the edge labels to start\n",
    "    # with 1 vice 0, we add one here, to get\n",
    "    # the range (1, ..., num_node) instead of\n",
    "    # (0, ..., num_node - 1)\n",
    "    \n",
    "    pd_list.sort()\n",
    "    \n",
    "    type_list = [node[4] for node in pd_list]\n",
    "    pd_list = [[node[0] + 1, node[1] + 1, node[2] + 1, node[3] + 1] for node in pd_list]\n",
    "    \n",
    "    # Return results\n",
    "                \n",
    "    return [pd_list, type_list]"
   ]
  },
  {
   "cell_type": "code",
   "execution_count": 57,
   "metadata": {},
   "outputs": [
    {
     "data": {
      "text/plain": [
       "[[[1, 4, 2, 5], [3, 7, 4, 6], [5, 8, 6, 1], [7, 3, 8, 2]], [2, -2, 2, -2]]"
      ]
     },
     "execution_count": 57,
     "metadata": {},
     "output_type": "execute_result"
    }
   ],
   "source": [
    "planarDiagram(seq, orientList)"
   ]
  },
  {
   "cell_type": "markdown",
   "metadata": {},
   "source": [
    "Before we get into solving for the graph polynomials, we need one additional function. Since SageMath evidentally does not like it when a link given in PD notation has two edges on the same crossing, we create a function to check if this is true. Only adjacent edges could be the problem -- otherwise, they would cross over or under another edge, and have different labels."
   ]
  },
  {
   "cell_type": "code",
   "execution_count": 1,
   "metadata": {},
   "outputs": [],
   "source": [
    "def doubleEdge(label_list):\n",
    "    \"\"\"\n",
    "    Given a list of four edge labels, see if any\n",
    "    two of them are the same. Reports which labels\n",
    "    are common if so, and False otherwise.\n",
    "    \"\"\"\n",
    "    \n",
    "    for iii in range(4):\n",
    "        if label_list[iii - 1] == label_list[iii]:\n",
    "            return sorted[(iii - 1) % 4, iii]\n",
    "        \n",
    "    return False"
   ]
  },
  {
   "cell_type": "code",
   "execution_count": 129,
   "metadata": {},
   "outputs": [],
   "source": [
    "def graphPoly(pd_list, type_list):\n",
    "    \"\"\"\n",
    "    This is a recursive function to find the graph\n",
    "    polynomial associated with the graph described\n",
    "    by the PD list pd_list and the orientation list\n",
    "    type_list. When the algorithm is complete, it\n",
    "    will return the graph polynomial.\n",
    "    \"\"\"\n",
    "    \n",
    "    print(pd_list, type_list)\n",
    "    \n",
    "    # If the graph has been completely reduced down\n",
    "    # to a link, return the link invariant polynomial,\n",
    "    # using any choice of such invariant\n",
    "    \n",
    "    if type_list == []:\n",
    "        L = Link(pd_list)\n",
    "        print(L.jones_polynomial(skein_normalization = True))\n",
    "        return L.jones_polynomial(skein_normalization = True)\n",
    "    \n",
    "    # If the graph has not been completely reduced,\n",
    "    # work on last node; this will be deleted from the\n",
    "    # end of type_list, but kept in pd_list, so the\n",
    "    # link invariant can be calculated.\n",
    "    \n",
    "    # If the node type is a crossing, return the function\n",
    "    # for the remainder of the graph, without the given\n",
    "    # crossing\n",
    "    \n",
    "    if abs(type_list[-1]) == 1:\n",
    "        return graphPoly(pd_list, type_list[:-1])\n",
    "    \n",
    "    # If the node type is a vertex, use the graph\n",
    "    # polynomial skein relation.\n",
    "    \n",
    "    elif abs(type_list[-1]) == 2:\n",
    "    \n",
    "        # Create new function to return\n",
    "\n",
    "        new_func = 0\n",
    "        \n",
    "        # Which node are we working with? Given by length of\n",
    "        # current type_list\n",
    "        \n",
    "        node_index = len(type_list) - 1\n",
    "    \n",
    "        #--------------------------------------------------------------------#\n",
    "        \n",
    "        # Case Alpha -- vertex is removed, edges are connected\n",
    "        #   so that incoming edge \"goes to the left\" through\n",
    "        #   the vertex\n",
    "        \n",
    "        # For a node with edge labels in the form [a0, a1, a2, a3]\n",
    "        # replace max(a0, a1) with min(a0, a1), and replace\n",
    "        # max(a2, a3) with min(a2, a3)\n",
    "        \n",
    "        first_max = max(pd_list[node_index][0], pd_list[node_index][1])\n",
    "        first_min = min(pd_list[node_index][0], pd_list[node_index][1])\n",
    "        \n",
    "        second_max = max(pd_list[node_index][2], pd_list[node_index][3])\n",
    "        second_min = min(pd_list[node_index][2], pd_list[node_index][3])\n",
    "        \n",
    "        new_pd_list = pd_list[:]\n",
    "        \n",
    "        # It is possible for a alpha move to create a new unknot\n",
    "        # if a0 = a1 or a2 = a3, so account for that possibility;\n",
    "        # if a0 = a1 *and* a2 = a3, then two unknots are created\n",
    "        \n",
    "        if first_min == first_max and second_min == second_max:\n",
    "            \n",
    "            # Find largest current edge label, delete current\n",
    "            # node, and add two new unknots to end, using edge\n",
    "            # labels higher than any currently in PD form; do it\n",
    "            # in this order, just in case current node is last one\n",
    "            \n",
    "            max_label = max([max(node) for node in new_pd_list])\n",
    "            del new_pd_list[node_index]\n",
    "            new_pd_list += [[max_label + 1, max_label + 1, max_label + 2, max_label + 2],\n",
    "                           [max_label + 3, max_label + 3, max_label + 4, max_label + 4]]\n",
    "            \n",
    "        elif not (first_min == first_max or second_min == second_max):\n",
    "            del new_pd_list[node_index]\n",
    "            \n",
    "        # Go through and remove max edge labels, replace with mins\n",
    "        \n",
    "        for node in new_pd_list:\n",
    "            for iii in range(4):\n",
    "                if node[iii] == first_max:\n",
    "                    node[iii] = first_min\n",
    "                elif node[iii] == second_max:\n",
    "                    node[iii] = second_min\n",
    "        \n",
    "        new_func += a * graphPoly(new_pd_list, type_list[:-1])\n",
    "    \n",
    "        #--------------------------------------------------------------------#\n",
    "\n",
    "        # Case Bravo -- vertex is removed, edges are connected\n",
    "        #   so that incoming edge \"goes to the right\" through\n",
    "        #   the vertex\n",
    "        \n",
    "        # For a node with edge labels in the form [a0, a1, a2, a3]\n",
    "        # replace max(a0, a3) with min(a0, a3), and replace\n",
    "        # max(a1, a2) with min(a1, a2)\n",
    "        \n",
    "        first_max = max(pd_list[node_index][0], pd_list[node_index][3])\n",
    "        first_min = min(pd_list[node_index][0], pd_list[node_index][3])\n",
    "        \n",
    "        second_max = max(pd_list[node_index][1], pd_list[node_index][2])\n",
    "        second_min = min(pd_list[node_index][1], pd_list[node_index][2])\n",
    "        \n",
    "        new_pd_list = pd_list[:]\n",
    "        \n",
    "        # It is possible for a beta move to create a new unknot\n",
    "        # if a0 = a3 or a1 = a2, so account for that possibility\n",
    "        \n",
    "        if not (first_min == first_max or second_min == second_max):\n",
    "            del new_pd_list[node_index]\n",
    "            \n",
    "        # Go through and remove max edge labels, replace with mins\n",
    "        \n",
    "        for node in new_pd_list:\n",
    "            for iii in range(4):\n",
    "                if node[iii] == first_max:\n",
    "                    node[iii] = first_min\n",
    "                elif node[iii] == second_max:\n",
    "                    node[iii] = second_min\n",
    "        \n",
    "        new_func += b * graphPoly(new_pd_list, type_list[:-1])\n",
    "    \n",
    "        #--------------------------------------------------------------------#\n",
    "    \n",
    "        # Case Gamma -- vertex is removed and replaced by\n",
    "        #   crossing, with upper edge of vertex becoming\n",
    "        #   upper edge of crossing\n",
    "        \n",
    "        # In this case, the upper edge just becomes an\n",
    "        # upper crossing.\n",
    "        \n",
    "        new_func += c * graphPoly(pd_list[:], type_list[:-1])\n",
    "    \n",
    "        #--------------------------------------------------------------------#\n",
    "\n",
    "        # Case Delta -- vertex is removed and replaced by\n",
    "        #   crossing, with upper edge of vertex becoming\n",
    "        #   lower edge of crossing\n",
    "\n",
    "        # Use positive/negative information given in vertex\n",
    "        # type to change labels for this vertex\n",
    "        \n",
    "        new_pd_list = pd_list[:]\n",
    "        change = type_list[node_index] / abs(type_list[node_index])\n",
    "        new_pd_list[node_index] = [new_pd_list[node_index][(iii + change) % 4] for iii in range(4)]\n",
    "        \n",
    "        new_func += d * graphPoly(new_pd_list, type_list[:-1])\n",
    "    \n",
    "        #--------------------------------------------------------------------#\n",
    "        \n",
    "        # Return resulting polynomial\n",
    "        \n",
    "        return new_func"
   ]
  },
  {
   "cell_type": "code",
   "execution_count": 130,
   "metadata": {},
   "outputs": [
    {
     "name": "stdout",
     "output_type": "stream",
     "text": [
      "([[2, 6, 3, 5], [4, 2, 5, 1], [6, 4, 1, 3]], [-2, -2, -2])\n",
      "([[2, 4, 1, 5], [4, 2, 5, 1]], [-2, -2])\n",
      "([[2, 2, 1, 1]], [-2])\n",
      "([[3, 3, 4, 4], [5, 5, 6, 6]], [])\n",
      "-A^-2 - A^2\n",
      "([], [])\n",
      "-A^-2 - A^2\n",
      "([[2, 2, 1, 1]], [])\n",
      "1\n",
      "([[1, 2, 2, 1]], [])\n",
      "1\n",
      "([[2, 2, 1, 1]], [-2])\n",
      "([[3, 3, 4, 4], [5, 5, 6, 6]], [])\n",
      "-A^-2 - A^2\n",
      "([], [])\n",
      "-A^-2 - A^2\n",
      "([[2, 2, 1, 1]], [])\n",
      "1\n",
      "([[1, 2, 2, 1]], [])\n",
      "1\n",
      "([[2, 2, 1, 1], [4, 2, 5, 1]], [-2])\n",
      "([[4, 2, 5, 1], [6, 6, 7, 7], [8, 8, 9, 9]], [])\n"
     ]
    },
    {
     "ename": "ValueError",
     "evalue": "invalid PD code: each segment must appear twice",
     "output_type": "error",
     "traceback": [
      "\u001b[0;31m---------------------------------------------------------------------------\u001b[0m",
      "\u001b[0;31mValueError\u001b[0m                                Traceback (most recent call last)",
      "\u001b[0;32m<ipython-input-130-10668cd9fb24>\u001b[0m in \u001b[0;36m<module>\u001b[0;34m()\u001b[0m\n\u001b[1;32m      1\u001b[0m \u001b[0mseq\u001b[0m \u001b[0;34m=\u001b[0m \u001b[0;34m[\u001b[0m\u001b[0;34m[\u001b[0m\u001b[0mInteger\u001b[0m\u001b[0;34m(\u001b[0m\u001b[0;36m0\u001b[0m\u001b[0;34m)\u001b[0m\u001b[0;34m,\u001b[0m \u001b[0mInteger\u001b[0m\u001b[0;34m(\u001b[0m\u001b[0;36m3\u001b[0m\u001b[0;34m)\u001b[0m\u001b[0;34m,\u001b[0m \u001b[0mInteger\u001b[0m\u001b[0;34m(\u001b[0m\u001b[0;36m2\u001b[0m\u001b[0;34m)\u001b[0m\u001b[0;34m]\u001b[0m\u001b[0;34m,\u001b[0m \u001b[0;34m[\u001b[0m\u001b[0mInteger\u001b[0m\u001b[0;34m(\u001b[0m\u001b[0;36m2\u001b[0m\u001b[0;34m)\u001b[0m\u001b[0;34m,\u001b[0m \u001b[0mInteger\u001b[0m\u001b[0;34m(\u001b[0m\u001b[0;36m5\u001b[0m\u001b[0;34m)\u001b[0m\u001b[0;34m,\u001b[0m \u001b[0mInteger\u001b[0m\u001b[0;34m(\u001b[0m\u001b[0;36m2\u001b[0m\u001b[0;34m)\u001b[0m\u001b[0;34m]\u001b[0m\u001b[0;34m,\u001b[0m \u001b[0;34m[\u001b[0m\u001b[0mInteger\u001b[0m\u001b[0;34m(\u001b[0m\u001b[0;36m4\u001b[0m\u001b[0;34m)\u001b[0m\u001b[0;34m,\u001b[0m \u001b[0mInteger\u001b[0m\u001b[0;34m(\u001b[0m\u001b[0;36m1\u001b[0m\u001b[0;34m)\u001b[0m\u001b[0;34m,\u001b[0m \u001b[0mInteger\u001b[0m\u001b[0;34m(\u001b[0m\u001b[0;36m2\u001b[0m\u001b[0;34m)\u001b[0m\u001b[0;34m]\u001b[0m\u001b[0;34m]\u001b[0m\u001b[0;34m\u001b[0m\u001b[0m\n\u001b[1;32m      2\u001b[0m \u001b[0morientList\u001b[0m \u001b[0;34m=\u001b[0m \u001b[0misRealizable\u001b[0m\u001b[0;34m(\u001b[0m\u001b[0mseq\u001b[0m\u001b[0;34m,\u001b[0m \u001b[0mf_list\u001b[0m \u001b[0;34m=\u001b[0m \u001b[0mTrue\u001b[0m\u001b[0;34m)\u001b[0m\u001b[0;34m\u001b[0m\u001b[0m\n\u001b[0;32m----> 3\u001b[0;31m \u001b[0mfunction\u001b[0m \u001b[0;34m=\u001b[0m \u001b[0mgraphPoly\u001b[0m\u001b[0;34m(\u001b[0m\u001b[0;34m*\u001b[0m\u001b[0mplanarDiagram\u001b[0m\u001b[0;34m(\u001b[0m\u001b[0mseq\u001b[0m\u001b[0;34m,\u001b[0m \u001b[0morientList\u001b[0m\u001b[0;34m)\u001b[0m\u001b[0;34m)\u001b[0m\u001b[0;34m\u001b[0m\u001b[0m\n\u001b[0m\u001b[1;32m      4\u001b[0m \u001b[0mfunction\u001b[0m\u001b[0;34m\u001b[0m\u001b[0m\n",
      "\u001b[0;32m<ipython-input-129-a3fa0d7cccf3>\u001b[0m in \u001b[0;36mgraphPoly\u001b[0;34m(pd_list, type_list)\u001b[0m\n\u001b[1;32m     91\u001b[0m                     \u001b[0mnode\u001b[0m\u001b[0;34m[\u001b[0m\u001b[0miii\u001b[0m\u001b[0;34m]\u001b[0m \u001b[0;34m=\u001b[0m \u001b[0msecond_min\u001b[0m\u001b[0;34m\u001b[0m\u001b[0m\n\u001b[1;32m     92\u001b[0m \u001b[0;34m\u001b[0m\u001b[0m\n\u001b[0;32m---> 93\u001b[0;31m         \u001b[0mnew_func\u001b[0m \u001b[0;34m+=\u001b[0m \u001b[0ma\u001b[0m \u001b[0;34m*\u001b[0m \u001b[0mgraphPoly\u001b[0m\u001b[0;34m(\u001b[0m\u001b[0mnew_pd_list\u001b[0m\u001b[0;34m,\u001b[0m \u001b[0mtype_list\u001b[0m\u001b[0;34m[\u001b[0m\u001b[0;34m:\u001b[0m\u001b[0;34m-\u001b[0m\u001b[0mInteger\u001b[0m\u001b[0;34m(\u001b[0m\u001b[0;36m1\u001b[0m\u001b[0;34m)\u001b[0m\u001b[0;34m]\u001b[0m\u001b[0;34m)\u001b[0m\u001b[0;34m\u001b[0m\u001b[0m\n\u001b[0m\u001b[1;32m     94\u001b[0m \u001b[0;34m\u001b[0m\u001b[0m\n\u001b[1;32m     95\u001b[0m         \u001b[0;31m#--------------------------------------------------------------------#\u001b[0m\u001b[0;34m\u001b[0m\u001b[0;34m\u001b[0m\u001b[0m\n",
      "\u001b[0;32m<ipython-input-129-a3fa0d7cccf3>\u001b[0m in \u001b[0;36mgraphPoly\u001b[0;34m(pd_list, type_list)\u001b[0m\n\u001b[1;32m    137\u001b[0m         \u001b[0;31m# upper crossing.\u001b[0m\u001b[0;34m\u001b[0m\u001b[0;34m\u001b[0m\u001b[0m\n\u001b[1;32m    138\u001b[0m \u001b[0;34m\u001b[0m\u001b[0m\n\u001b[0;32m--> 139\u001b[0;31m         \u001b[0mnew_func\u001b[0m \u001b[0;34m+=\u001b[0m \u001b[0mc\u001b[0m \u001b[0;34m*\u001b[0m \u001b[0mgraphPoly\u001b[0m\u001b[0;34m(\u001b[0m\u001b[0mpd_list\u001b[0m\u001b[0;34m[\u001b[0m\u001b[0;34m:\u001b[0m\u001b[0;34m]\u001b[0m\u001b[0;34m,\u001b[0m \u001b[0mtype_list\u001b[0m\u001b[0;34m[\u001b[0m\u001b[0;34m:\u001b[0m\u001b[0;34m-\u001b[0m\u001b[0mInteger\u001b[0m\u001b[0;34m(\u001b[0m\u001b[0;36m1\u001b[0m\u001b[0;34m)\u001b[0m\u001b[0;34m]\u001b[0m\u001b[0;34m)\u001b[0m\u001b[0;34m\u001b[0m\u001b[0m\n\u001b[0m\u001b[1;32m    140\u001b[0m \u001b[0;34m\u001b[0m\u001b[0m\n\u001b[1;32m    141\u001b[0m         \u001b[0;31m#--------------------------------------------------------------------#\u001b[0m\u001b[0;34m\u001b[0m\u001b[0;34m\u001b[0m\u001b[0m\n",
      "\u001b[0;32m<ipython-input-129-a3fa0d7cccf3>\u001b[0m in \u001b[0;36mgraphPoly\u001b[0;34m(pd_list, type_list)\u001b[0m\n\u001b[1;32m     91\u001b[0m                     \u001b[0mnode\u001b[0m\u001b[0;34m[\u001b[0m\u001b[0miii\u001b[0m\u001b[0;34m]\u001b[0m \u001b[0;34m=\u001b[0m \u001b[0msecond_min\u001b[0m\u001b[0;34m\u001b[0m\u001b[0m\n\u001b[1;32m     92\u001b[0m \u001b[0;34m\u001b[0m\u001b[0m\n\u001b[0;32m---> 93\u001b[0;31m         \u001b[0mnew_func\u001b[0m \u001b[0;34m+=\u001b[0m \u001b[0ma\u001b[0m \u001b[0;34m*\u001b[0m \u001b[0mgraphPoly\u001b[0m\u001b[0;34m(\u001b[0m\u001b[0mnew_pd_list\u001b[0m\u001b[0;34m,\u001b[0m \u001b[0mtype_list\u001b[0m\u001b[0;34m[\u001b[0m\u001b[0;34m:\u001b[0m\u001b[0;34m-\u001b[0m\u001b[0mInteger\u001b[0m\u001b[0;34m(\u001b[0m\u001b[0;36m1\u001b[0m\u001b[0;34m)\u001b[0m\u001b[0;34m]\u001b[0m\u001b[0;34m)\u001b[0m\u001b[0;34m\u001b[0m\u001b[0m\n\u001b[0m\u001b[1;32m     94\u001b[0m \u001b[0;34m\u001b[0m\u001b[0m\n\u001b[1;32m     95\u001b[0m         \u001b[0;31m#--------------------------------------------------------------------#\u001b[0m\u001b[0;34m\u001b[0m\u001b[0;34m\u001b[0m\u001b[0m\n",
      "\u001b[0;32m<ipython-input-129-a3fa0d7cccf3>\u001b[0m in \u001b[0;36mgraphPoly\u001b[0;34m(pd_list, type_list)\u001b[0m\n\u001b[1;32m     15\u001b[0m \u001b[0;34m\u001b[0m\u001b[0m\n\u001b[1;32m     16\u001b[0m     \u001b[0;32mif\u001b[0m \u001b[0mtype_list\u001b[0m \u001b[0;34m==\u001b[0m \u001b[0;34m[\u001b[0m\u001b[0;34m]\u001b[0m\u001b[0;34m:\u001b[0m\u001b[0;34m\u001b[0m\u001b[0m\n\u001b[0;32m---> 17\u001b[0;31m         \u001b[0mL\u001b[0m \u001b[0;34m=\u001b[0m \u001b[0mLink\u001b[0m\u001b[0;34m(\u001b[0m\u001b[0mpd_list\u001b[0m\u001b[0;34m)\u001b[0m\u001b[0;34m\u001b[0m\u001b[0m\n\u001b[0m\u001b[1;32m     18\u001b[0m         \u001b[0;32mprint\u001b[0m\u001b[0;34m(\u001b[0m\u001b[0mL\u001b[0m\u001b[0;34m.\u001b[0m\u001b[0mjones_polynomial\u001b[0m\u001b[0;34m(\u001b[0m\u001b[0mskein_normalization\u001b[0m \u001b[0;34m=\u001b[0m \u001b[0mTrue\u001b[0m\u001b[0;34m)\u001b[0m\u001b[0;34m)\u001b[0m\u001b[0;34m\u001b[0m\u001b[0m\n\u001b[1;32m     19\u001b[0m         \u001b[0;32mreturn\u001b[0m \u001b[0mL\u001b[0m\u001b[0;34m.\u001b[0m\u001b[0mjones_polynomial\u001b[0m\u001b[0;34m(\u001b[0m\u001b[0mskein_normalization\u001b[0m \u001b[0;34m=\u001b[0m \u001b[0mTrue\u001b[0m\u001b[0;34m)\u001b[0m\u001b[0;34m\u001b[0m\u001b[0m\n",
      "\u001b[0;32m/opt/sagemath-8.2/local/lib/python2.7/site-packages/sage/knots/link.py\u001b[0m in \u001b[0;36m__init__\u001b[0;34m(self, data)\u001b[0m\n\u001b[1;32m    319\u001b[0m                         \u001b[0mflat\u001b[0m \u001b[0;34m=\u001b[0m \u001b[0mflatten\u001b[0m\u001b[0;34m(\u001b[0m\u001b[0mdata\u001b[0m\u001b[0;34m)\u001b[0m\u001b[0;34m\u001b[0m\u001b[0m\n\u001b[1;32m    320\u001b[0m                         \u001b[0;32mif\u001b[0m \u001b[0many\u001b[0m\u001b[0;34m(\u001b[0m\u001b[0mflat\u001b[0m\u001b[0;34m.\u001b[0m\u001b[0mcount\u001b[0m\u001b[0;34m(\u001b[0m\u001b[0mi\u001b[0m\u001b[0;34m)\u001b[0m \u001b[0;34m!=\u001b[0m \u001b[0;36m2\u001b[0m \u001b[0;32mfor\u001b[0m \u001b[0mi\u001b[0m \u001b[0;32min\u001b[0m \u001b[0mset\u001b[0m\u001b[0;34m(\u001b[0m\u001b[0mflat\u001b[0m\u001b[0;34m)\u001b[0m\u001b[0;34m)\u001b[0m\u001b[0;34m:\u001b[0m\u001b[0;34m\u001b[0m\u001b[0m\n\u001b[0;32m--> 321\u001b[0;31m                             \u001b[0;32mraise\u001b[0m \u001b[0mValueError\u001b[0m\u001b[0;34m(\u001b[0m\u001b[0;34m\"invalid PD code: each segment must appear twice\"\u001b[0m\u001b[0;34m)\u001b[0m\u001b[0;34m\u001b[0m\u001b[0m\n\u001b[0m\u001b[1;32m    322\u001b[0m                 \u001b[0mself\u001b[0m\u001b[0;34m.\u001b[0m\u001b[0m_pd_code\u001b[0m \u001b[0;34m=\u001b[0m \u001b[0mdata\u001b[0m\u001b[0;34m\u001b[0m\u001b[0m\n\u001b[1;32m    323\u001b[0m                 \u001b[0mself\u001b[0m\u001b[0;34m.\u001b[0m\u001b[0m_oriented_gauss_code\u001b[0m \u001b[0;34m=\u001b[0m \u001b[0mNone\u001b[0m\u001b[0;34m\u001b[0m\u001b[0m\n",
      "\u001b[0;31mValueError\u001b[0m: invalid PD code: each segment must appear twice"
     ]
    }
   ],
   "source": [
    "seq = [[0, 3, 2], [2, 5, 2], [4, 1, 2]]\n",
    "orientList = isRealizable(seq, f_list = True)\n",
    "function = graphPoly(*planarDiagram(seq, orientList))\n",
    "function"
   ]
  },
  {
   "cell_type": "code",
   "execution_count": 131,
   "metadata": {},
   "outputs": [
    {
     "ename": "ValueError",
     "evalue": "invalid PD code: each segment must appear twice",
     "output_type": "error",
     "traceback": [
      "\u001b[0;31m---------------------------------------------------------------------------\u001b[0m",
      "\u001b[0;31mValueError\u001b[0m                                Traceback (most recent call last)",
      "\u001b[0;32m<ipython-input-131-96f1d69ea251>\u001b[0m in \u001b[0;36m<module>\u001b[0;34m()\u001b[0m\n\u001b[0;32m----> 1\u001b[0;31m \u001b[0mL\u001b[0m \u001b[0;34m=\u001b[0m \u001b[0mLink\u001b[0m\u001b[0;34m(\u001b[0m\u001b[0;34m[\u001b[0m\u001b[0;34m[\u001b[0m\u001b[0mInteger\u001b[0m\u001b[0;34m(\u001b[0m\u001b[0;36m4\u001b[0m\u001b[0;34m)\u001b[0m\u001b[0;34m,\u001b[0m \u001b[0mInteger\u001b[0m\u001b[0;34m(\u001b[0m\u001b[0;36m2\u001b[0m\u001b[0;34m)\u001b[0m\u001b[0;34m,\u001b[0m \u001b[0mInteger\u001b[0m\u001b[0;34m(\u001b[0m\u001b[0;36m5\u001b[0m\u001b[0;34m)\u001b[0m\u001b[0;34m,\u001b[0m \u001b[0mInteger\u001b[0m\u001b[0;34m(\u001b[0m\u001b[0;36m1\u001b[0m\u001b[0;34m)\u001b[0m\u001b[0;34m]\u001b[0m\u001b[0;34m,\u001b[0m \u001b[0;34m[\u001b[0m\u001b[0mInteger\u001b[0m\u001b[0;34m(\u001b[0m\u001b[0;36m6\u001b[0m\u001b[0;34m)\u001b[0m\u001b[0;34m,\u001b[0m \u001b[0mInteger\u001b[0m\u001b[0;34m(\u001b[0m\u001b[0;36m6\u001b[0m\u001b[0;34m)\u001b[0m\u001b[0;34m,\u001b[0m \u001b[0mInteger\u001b[0m\u001b[0;34m(\u001b[0m\u001b[0;36m7\u001b[0m\u001b[0;34m)\u001b[0m\u001b[0;34m,\u001b[0m \u001b[0mInteger\u001b[0m\u001b[0;34m(\u001b[0m\u001b[0;36m7\u001b[0m\u001b[0;34m)\u001b[0m\u001b[0;34m]\u001b[0m\u001b[0;34m,\u001b[0m \u001b[0;34m[\u001b[0m\u001b[0mInteger\u001b[0m\u001b[0;34m(\u001b[0m\u001b[0;36m8\u001b[0m\u001b[0;34m)\u001b[0m\u001b[0;34m,\u001b[0m \u001b[0mInteger\u001b[0m\u001b[0;34m(\u001b[0m\u001b[0;36m8\u001b[0m\u001b[0;34m)\u001b[0m\u001b[0;34m,\u001b[0m \u001b[0mInteger\u001b[0m\u001b[0;34m(\u001b[0m\u001b[0;36m9\u001b[0m\u001b[0;34m)\u001b[0m\u001b[0;34m,\u001b[0m \u001b[0mInteger\u001b[0m\u001b[0;34m(\u001b[0m\u001b[0;36m9\u001b[0m\u001b[0;34m)\u001b[0m\u001b[0;34m]\u001b[0m\u001b[0;34m]\u001b[0m\u001b[0;34m)\u001b[0m\u001b[0;34m\u001b[0m\u001b[0m\n\u001b[0m",
      "\u001b[0;32m/opt/sagemath-8.2/local/lib/python2.7/site-packages/sage/knots/link.py\u001b[0m in \u001b[0;36m__init__\u001b[0;34m(self, data)\u001b[0m\n\u001b[1;32m    319\u001b[0m                         \u001b[0mflat\u001b[0m \u001b[0;34m=\u001b[0m \u001b[0mflatten\u001b[0m\u001b[0;34m(\u001b[0m\u001b[0mdata\u001b[0m\u001b[0;34m)\u001b[0m\u001b[0;34m\u001b[0m\u001b[0m\n\u001b[1;32m    320\u001b[0m                         \u001b[0;32mif\u001b[0m \u001b[0many\u001b[0m\u001b[0;34m(\u001b[0m\u001b[0mflat\u001b[0m\u001b[0;34m.\u001b[0m\u001b[0mcount\u001b[0m\u001b[0;34m(\u001b[0m\u001b[0mi\u001b[0m\u001b[0;34m)\u001b[0m \u001b[0;34m!=\u001b[0m \u001b[0;36m2\u001b[0m \u001b[0;32mfor\u001b[0m \u001b[0mi\u001b[0m \u001b[0;32min\u001b[0m \u001b[0mset\u001b[0m\u001b[0;34m(\u001b[0m\u001b[0mflat\u001b[0m\u001b[0;34m)\u001b[0m\u001b[0;34m)\u001b[0m\u001b[0;34m:\u001b[0m\u001b[0;34m\u001b[0m\u001b[0m\n\u001b[0;32m--> 321\u001b[0;31m                             \u001b[0;32mraise\u001b[0m \u001b[0mValueError\u001b[0m\u001b[0;34m(\u001b[0m\u001b[0;34m\"invalid PD code: each segment must appear twice\"\u001b[0m\u001b[0;34m)\u001b[0m\u001b[0;34m\u001b[0m\u001b[0m\n\u001b[0m\u001b[1;32m    322\u001b[0m                 \u001b[0mself\u001b[0m\u001b[0;34m.\u001b[0m\u001b[0m_pd_code\u001b[0m \u001b[0;34m=\u001b[0m \u001b[0mdata\u001b[0m\u001b[0;34m\u001b[0m\u001b[0m\n\u001b[1;32m    323\u001b[0m                 \u001b[0mself\u001b[0m\u001b[0;34m.\u001b[0m\u001b[0m_oriented_gauss_code\u001b[0m \u001b[0;34m=\u001b[0m \u001b[0mNone\u001b[0m\u001b[0;34m\u001b[0m\u001b[0m\n",
      "\u001b[0;31mValueError\u001b[0m: invalid PD code: each segment must appear twice"
     ]
    }
   ],
   "source": [
    "L = Link([[4, 2, 5, 1], [6, 6, 7, 7], [8, 8, 9, 9]])"
   ]
  },
  {
   "cell_type": "code",
   "execution_count": 96,
   "metadata": {},
   "outputs": [
    {
     "data": {
      "text/plain": [
       "-A^-2 - A^2"
      ]
     },
     "execution_count": 96,
     "metadata": {},
     "output_type": "execute_result"
    }
   ],
   "source": [
    "L.jones_polynomial(skein_normalization = True)"
   ]
  },
  {
   "cell_type": "code",
   "execution_count": 18,
   "metadata": {},
   "outputs": [
    {
     "data": {
      "image/png": "[encoded data removed]",
      "text/plain": [
       "Graphics object consisting of 19 graphics primitives"
      ]
     },
     "execution_count": 18,
     "metadata": {},
     "output_type": "execute_result"
    }
   ],
   "source": [
    "M = Link([[1, 4, 2, 5], [3, 7, 4, 6], [5, 8, 6, 1], [7, 3, 8, 2]])\n",
    "M.jones_polynomial()\n",
    "M.plot()"
   ]
  },
  {
   "cell_type": "code",
   "execution_count": 19,
   "metadata": {},
   "outputs": [
    {
     "data": {
      "image/png": "[encoded data removed]",
      "text/plain": [
       "Graphics object consisting of 13 graphics primitives"
      ]
     },
     "execution_count": 19,
     "metadata": {},
     "output_type": "execute_result"
    }
   ],
   "source": [
    "L = Link([[1, 4, 2, 3], [4, 1, 3, 2]])\n",
    "L.plot()"
   ]
  },
  {
   "cell_type": "code",
   "execution_count": 56,
   "metadata": {},
   "outputs": [
    {
     "data": {
      "text/plain": [
       "1/t + 1/t^3 - 1/t^4"
      ]
     },
     "execution_count": 56,
     "metadata": {},
     "output_type": "execute_result"
    }
   ],
   "source": [
    "graphPoly([[1, 5, 2, 4], [5, 3, 6, 2], [3, 1, 4, 6]], [1, 1, 1])"
   ]
  },
  {
   "cell_type": "code",
   "execution_count": 89,
   "metadata": {},
   "outputs": [
    {
     "name": "stdout",
     "output_type": "stream",
     "text": [
      "[1, -1, 1, -1, 1, -1]\n"
     ]
    },
    {
     "data": {
      "text/plain": [
       "-t^4 + t^3 + t"
      ]
     },
     "execution_count": 89,
     "metadata": {},
     "output_type": "execute_result"
    }
   ],
   "source": [
    "graphList = [[0, 3, -1], [2, 5, -1], [4, 1, -1]]\n",
    "fList = isRealizable(graphList, f_list = True)\n",
    "print(fList)\n",
    "graphPoly(*planarDiagram(graphList, fList))"
   ]
  },
  {
   "cell_type": "code",
   "execution_count": 91,
   "metadata": {},
   "outputs": [
    {
     "name": "stdout",
     "output_type": "stream",
     "text": [
      "[1, -1, 1, -1, 1, -1]\n"
     ]
    },
    {
     "data": {
      "text/plain": [
       "-t^4 + t^3 + t"
      ]
     },
     "execution_count": 91,
     "metadata": {},
     "output_type": "execute_result"
    }
   ],
   "source": [
    "graphList = [[0, 3, 1], [2, 5, 1], [4, 1, 1]]\n",
    "fList = isRealizable(graphList, f_list = True)\n",
    "print(fList)\n",
    "graphPoly(*planarDiagram(graphList, [-f for f in fList]))"
   ]
  },
  {
   "cell_type": "code",
   "execution_count": 76,
   "metadata": {},
   "outputs": [
    {
     "ename": "ValueError",
     "evalue": "list.remove(x): x not in list",
     "output_type": "error",
     "traceback": [
      "\u001b[0;31m---------------------------------------------------------------------------\u001b[0m",
      "\u001b[0;31mValueError\u001b[0m                                Traceback (most recent call last)",
      "\u001b[0;32m<ipython-input-76-21266b2ba4e9>\u001b[0m in \u001b[0;36m<module>\u001b[0;34m()\u001b[0m\n\u001b[1;32m      1\u001b[0m \u001b[0mA\u001b[0m \u001b[0;34m=\u001b[0m \u001b[0;34m[\u001b[0m\u001b[0mInteger\u001b[0m\u001b[0;34m(\u001b[0m\u001b[0;36m1\u001b[0m\u001b[0;34m)\u001b[0m\u001b[0;34m,\u001b[0m \u001b[0mInteger\u001b[0m\u001b[0;34m(\u001b[0m\u001b[0;36m2\u001b[0m\u001b[0;34m)\u001b[0m\u001b[0;34m,\u001b[0m \u001b[0mInteger\u001b[0m\u001b[0;34m(\u001b[0m\u001b[0;36m3\u001b[0m\u001b[0;34m)\u001b[0m\u001b[0;34m,\u001b[0m \u001b[0mInteger\u001b[0m\u001b[0;34m(\u001b[0m\u001b[0;36m4\u001b[0m\u001b[0;34m)\u001b[0m\u001b[0;34m]\u001b[0m\u001b[0;34m\u001b[0m\u001b[0m\n\u001b[0;32m----> 2\u001b[0;31m \u001b[0mA\u001b[0m\u001b[0;34m.\u001b[0m\u001b[0mremove\u001b[0m\u001b[0;34m(\u001b[0m\u001b[0mInteger\u001b[0m\u001b[0;34m(\u001b[0m\u001b[0;36m0\u001b[0m\u001b[0;34m)\u001b[0m\u001b[0;34m)\u001b[0m\u001b[0;34m\u001b[0m\u001b[0m\n\u001b[0m",
      "\u001b[0;31mValueError\u001b[0m: list.remove(x): x not in list"
     ]
    }
   ],
   "source": [
    "A = [1, 2, 3, 4]\n",
    "A.remove(0)"
   ]
  },
  {
   "cell_type": "code",
   "execution_count": 3,
   "metadata": {},
   "outputs": [
    {
     "data": {
      "text/plain": [
       "[1, 2, 4]"
      ]
     },
     "execution_count": 3,
     "metadata": {},
     "output_type": "execute_result"
    }
   ],
   "source": [
    "A[:2] + A[3:]"
   ]
  },
  {
   "cell_type": "code",
   "execution_count": 10,
   "metadata": {},
   "outputs": [
    {
     "name": "stdout",
     "output_type": "stream",
     "text": [
      "[[0, 5, 2, 4], [5, 3, 7, 2], [3, 0, 4, 7]]\n"
     ]
    }
   ],
   "source": [
    "K = []\n",
    "H = [[1, 5, 2, 4], [5, 3, 6, 2], [3, 1, 4, 6]]\n",
    "for node in H:\n",
    "    for iii in range(4):\n",
    "        if node[iii] == 1:\n",
    "            node[iii] = 0\n",
    "        elif node[iii] == 6:\n",
    "            node[iii] = 7\n",
    "    \n",
    "print(H)"
   ]
  },
  {
   "cell_type": "code",
   "execution_count": 18,
   "metadata": {},
   "outputs": [
    {
     "data": {
      "image/png": "[encoded data removed]",
      "text/plain": [
       "Graphics object consisting of 4 graphics primitives"
      ]
     },
     "execution_count": 18,
     "metadata": {},
     "output_type": "execute_result"
    }
   ],
   "source": [
    "L = Link([[2, 1, 1, 2]])\n",
    "L.plot()"
   ]
  },
  {
   "cell_type": "code",
   "execution_count": 27,
   "metadata": {},
   "outputs": [
    {
     "data": {
      "text/plain": [
       "1"
      ]
     },
     "execution_count": 27,
     "metadata": {},
     "output_type": "execute_result"
    }
   ],
   "source": [
    "L.jones_polynomial(skein_normalization = True)"
   ]
  },
  {
   "cell_type": "code",
   "execution_count": 34,
   "metadata": {},
   "outputs": [],
   "source": [
    "K = Link([[2, 2, 3, 1], [3, 4, 4, 1]])"
   ]
  },
  {
   "cell_type": "code",
   "execution_count": 35,
   "metadata": {},
   "outputs": [
    {
     "data": {
      "image/png": "[encoded data removed]",
      "text/plain": [
       "Graphics object consisting of 7 graphics primitives"
      ]
     },
     "execution_count": 35,
     "metadata": {},
     "output_type": "execute_result"
    }
   ],
   "source": [
    "K.plot()"
   ]
  },
  {
   "cell_type": "code",
   "execution_count": 37,
   "metadata": {},
   "outputs": [],
   "source": [
    "L = K.oriented_gauss_code()"
   ]
  },
  {
   "cell_type": "code",
   "execution_count": 95,
   "metadata": {},
   "outputs": [
    {
     "data": {
      "text/plain": [
       "[6, 4, 1, 3]"
      ]
     },
     "execution_count": 95,
     "metadata": {},
     "output_type": "execute_result"
    }
   ],
   "source": [
    "max([[2, 6, 3, 5], [4, 2, 5, 1], [6, 4, 1, 3]])"
   ]
  },
  {
   "cell_type": "code",
   "execution_count": 45,
   "metadata": {},
   "outputs": [
    {
     "name": "stdout",
     "output_type": "stream",
     "text": [
      "[1, 2, 3, 0]\n",
      "[3, 0, 1, 2]\n"
     ]
    }
   ],
   "source": [
    "A = [0, 1, 2, 3]\n",
    "print([A[(iii + 1) % 4] for iii in range(4)])\n",
    "print([A[(iii - 1) % 4] for iii in range(4)])"
   ]
  },
  {
   "cell_type": "code",
   "execution_count": null,
   "metadata": {},
   "outputs": [],
   "source": []
  }
 ],
 "metadata": {
  "kernelspec": {
   "display_name": "SageMath 8.2",
   "language": "",
   "name": "sagemath"
  },
  "language_info": {
   "codemirror_mode": {
    "name": "ipython",
    "version": 2
   },
   "file_extension": ".py",
   "mimetype": "text/x-python",
   "name": "python",
   "nbconvert_exporter": "python",
   "pygments_lexer": "ipython2",
   "version": "2.7.14"
  }
 },
 "nbformat": 4,
 "nbformat_minor": 2
}
